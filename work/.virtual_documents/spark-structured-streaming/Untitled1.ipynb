get_ipython().run_line_magic("SparkSession", "")


from pyspark.sql import SparkSession

spark = SparkSession\
    .builder\
    .appName("SparkSession-Hive")\
    .getOrCreate()

spark


spark.stop()


get_ipython().run_cell_magic("sparksql", "", """show tables""")
