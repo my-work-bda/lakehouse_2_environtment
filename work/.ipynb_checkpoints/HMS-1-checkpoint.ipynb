{
 "cells": [
  {
   "cell_type": "markdown",
   "id": "fbdbb55c-deab-49ff-82b8-58f85fe0978e",
   "metadata": {},
   "source": [
    "## On GG Environtment"
   ]
  },
  {
   "cell_type": "code",
   "execution_count": 1,
   "id": "c3a542a1-2402-4193-9f68-4eaa5d768a81",
   "metadata": {
    "execution": {
     "iopub.execute_input": "2024-07-09T06:52:25.928058Z",
     "iopub.status.busy": "2024-07-09T06:52:25.927753Z",
     "iopub.status.idle": "2024-07-09T06:52:25.935968Z",
     "shell.execute_reply": "2024-07-09T06:52:25.934058Z",
     "shell.execute_reply.started": "2024-07-09T06:52:25.928025Z"
    },
    "tags": []
   },
   "outputs": [],
   "source": [
    "# spark.stop()"
   ]
  },
  {
   "cell_type": "code",
   "execution_count": 1,
   "id": "4d0759ec-9715-49be-80a5-2fc431211233",
   "metadata": {
    "execution": {
     "iopub.execute_input": "2024-07-09T08:27:38.138763Z",
     "iopub.status.busy": "2024-07-09T08:27:38.137773Z",
     "iopub.status.idle": "2024-07-09T08:27:50.480423Z",
     "shell.execute_reply": "2024-07-09T08:27:50.479171Z",
     "shell.execute_reply.started": "2024-07-09T08:27:38.138721Z"
    },
    "tags": []
   },
   "outputs": [
    {
     "name": "stderr",
     "output_type": "stream",
     "text": [
      "Setting default log level to \"WARN\".\n",
      "To adjust logging level use sc.setLogLevel(newLevel). For SparkR, use setLogLevel(newLevel).\n",
      "24/07/09 08:27:40 WARN NativeCodeLoader: Unable to load native-hadoop library for your platform... using builtin-java classes where applicable\n",
      "24/07/09 08:27:42 WARN MetricsConfig: Cannot locate configuration: tried hadoop-metrics2-s3a-file-system.properties,hadoop-metrics2.properties\n",
      "Hive Session ID = 9f6e6582-41e6-4426-b18f-c4293304f255\n"
     ]
    },
    {
     "name": "stdout",
     "output_type": "stream",
     "text": [
      "+---------+\n",
      "|namespace|\n",
      "+---------+\n",
      "|  default|\n",
      "|     test|\n",
      "+---------+\n",
      "\n"
     ]
    }
   ],
   "source": [
    "from pyspark.sql import SparkSession\n",
    "\n",
    "spark = (SparkSession.builder \n",
    "            .appName('GG-Minio-Integration-Spark') \n",
    "            .enableHiveSupport()\n",
    "            .getOrCreate()\n",
    "        )\n",
    "\n",
    "spark\n",
    "\n",
    "spark.sql(\"show databases\").show()"
   ]
  },
  {
   "cell_type": "markdown",
   "id": "ad46d5ec-7f94-43d6-8dcc-bda8de7c9b0d",
   "metadata": {},
   "source": [
    "## Testing Permission"
   ]
  },
  {
   "cell_type": "code",
   "execution_count": 3,
   "id": "ed58a34b-aca8-406d-a4c9-8768b1324b8d",
   "metadata": {
    "execution": {
     "iopub.execute_input": "2024-07-09T08:28:49.322808Z",
     "iopub.status.busy": "2024-07-09T08:28:49.321741Z",
     "iopub.status.idle": "2024-07-09T08:28:51.583903Z",
     "shell.execute_reply": "2024-07-09T08:28:51.581912Z",
     "shell.execute_reply.started": "2024-07-09T08:28:49.322775Z"
    },
    "tags": []
   },
   "outputs": [
    {
     "name": "stdout",
     "output_type": "stream",
     "text": [
      "+---+--------+-----+\n",
      "| id|    name|price|\n",
      "+---+--------+-----+\n",
      "|  1|Widget A|   10|\n",
      "|  2|Widget B|   15|\n",
      "|  3|Widget C|   20|\n",
      "+---+--------+-----+\n",
      "\n"
     ]
    }
   ],
   "source": [
    "df = spark.read.csv(\"s3a://bucket-gg/products.csv\", header=True)\n",
    "df.show(5)"
   ]
  },
  {
   "cell_type": "code",
   "execution_count": 7,
   "id": "1344397e-7fbd-45aa-b43b-bf3d09c24ad4",
   "metadata": {
    "execution": {
     "iopub.execute_input": "2024-07-09T08:07:32.861202Z",
     "iopub.status.busy": "2024-07-09T08:07:32.860660Z",
     "iopub.status.idle": "2024-07-09T08:07:32.866276Z",
     "shell.execute_reply": "2024-07-09T08:07:32.864854Z",
     "shell.execute_reply.started": "2024-07-09T08:07:32.861175Z"
    },
    "tags": []
   },
   "outputs": [],
   "source": [
    "# Result Must Error \n",
    "# df = spark.read.csv(\"s3a://bucket-gg/products.csv\", header=True)\n",
    "# df.show(5)\n",
    "# Result : \n",
    "# WARN FileStreamSink: Assume no metadata directory. Error while looking for metadata directory in the path: s3a://bucket-gg/products.csv.\n",
    "#org.apache.hadoop.fs.s3a.AWSBadRequestException: getFileStatus on s3a://bucket-gg/products.csv: com.amazonaws.services.s3.model.AmazonS3Exception: The specified bucket is not valid. (Service: Amazon S3; Status Code: 400; Error Code: InvalidBucketName; Request ID: 17E07CEDC7FB7C66; S3 Extended Request ID: dd9025bab4ad464b049177c95eb6ebf374d3b3fd1af9251148b658df7ac2e3e8; Proxy: null), S3 Extended Request ID: dd9025bab4ad464b049177c95eb6ebf374d3b3fd1af9251148b658df7ac2e3e8:InvalidBucketName: The specified bucket is not valid. (Service: Amazon S3; Status Code: 400; Error Code: InvalidBucketName; Request ID: 17E07CEDC7FB7C66; S3 Extended Request ID: dd9025bab4ad464b049177c95eb6ebf374d3b3fd1af9251148b658df7ac2e3e8; Proxy: null)"
   ]
  },
  {
   "cell_type": "markdown",
   "id": "638f1d04-1d92-4aee-99e0-a1ed5eaebf0c",
   "metadata": {},
   "source": [
    "## Testing Spark SQL"
   ]
  },
  {
   "cell_type": "code",
   "execution_count": 4,
   "id": "9b380f9b-01a4-46f4-8dbc-a9000ba9153c",
   "metadata": {
    "execution": {
     "iopub.execute_input": "2024-07-09T08:29:07.655652Z",
     "iopub.status.busy": "2024-07-09T08:29:07.654621Z",
     "iopub.status.idle": "2024-07-09T08:29:07.988114Z",
     "shell.execute_reply": "2024-07-09T08:29:07.986752Z",
     "shell.execute_reply.started": "2024-07-09T08:29:07.655604Z"
    },
    "tags": []
   },
   "outputs": [
    {
     "name": "stdout",
     "output_type": "stream",
     "text": [
      "+---------+\n",
      "|namespace|\n",
      "+---------+\n",
      "|  default|\n",
      "|     test|\n",
      "|  test_gg|\n",
      "+---------+\n",
      "\n"
     ]
    }
   ],
   "source": [
    "# Create database \n",
    "spark.sql(\"create database test_gg\")\n",
    "spark.sql(\"show databases\").show()"
   ]
  },
  {
   "cell_type": "code",
   "execution_count": 5,
   "id": "13bb6be2-5320-4607-b3d9-04876e10afa4",
   "metadata": {
    "execution": {
     "iopub.execute_input": "2024-07-09T08:29:20.831286Z",
     "iopub.status.busy": "2024-07-09T08:29:20.830574Z",
     "iopub.status.idle": "2024-07-09T08:29:23.349973Z",
     "shell.execute_reply": "2024-07-09T08:29:23.348320Z",
     "shell.execute_reply.started": "2024-07-09T08:29:20.831255Z"
    },
    "tags": []
   },
   "outputs": [
    {
     "name": "stderr",
     "output_type": "stream",
     "text": [
      "                                                                                \r"
     ]
    },
    {
     "name": "stdout",
     "output_type": "stream",
     "text": [
      "+---+--------+-----+\n",
      "| id|    name|price|\n",
      "+---+--------+-----+\n",
      "|  1|Widget A|   10|\n",
      "|  2|Widget B|   15|\n",
      "|  3|Widget C|   20|\n",
      "+---+--------+-----+\n",
      "\n"
     ]
    }
   ],
   "source": [
    "df.write.mode(\"overwrite\").saveAsTable(\"test_gg.products\")\n",
    "spark.sql(\"SELECT * FROM test_gg.products\").show()"
   ]
  },
  {
   "cell_type": "code",
   "execution_count": 6,
   "id": "8acb54e9-636c-4592-b11b-3d0879e78164",
   "metadata": {
    "execution": {
     "iopub.execute_input": "2024-07-09T08:29:36.926568Z",
     "iopub.status.busy": "2024-07-09T08:29:36.925645Z",
     "iopub.status.idle": "2024-07-09T08:29:37.840197Z",
     "shell.execute_reply": "2024-07-09T08:29:37.838774Z",
     "shell.execute_reply.started": "2024-07-09T08:29:36.926540Z"
    },
    "tags": []
   },
   "outputs": [
    {
     "name": "stdout",
     "output_type": "stream",
     "text": [
      "+---+--------+-----+\n",
      "| id|    name|price|\n",
      "+---+--------+-----+\n",
      "|  1|Widget A|   10|\n",
      "|  2|Widget B|   15|\n",
      "|  3|Widget C|   20|\n",
      "+---+--------+-----+\n",
      "\n"
     ]
    }
   ],
   "source": [
    "# Simpan DataFrame sebagai tabel eksternal di Hive\n",
    "df.write \\\n",
    "    .option(\"path\", \"s3a://bucket-gg/product-ext\") \\\n",
    "    .mode(\"overwrite\") \\\n",
    "    .saveAsTable(\"test_gg.products_ext\")\n",
    "\n",
    "spark.sql(\"SELECT * FROM test_gg.products\").show()"
   ]
  },
  {
   "cell_type": "code",
   "execution_count": 7,
   "id": "ab5802f8-4dfb-43a5-a4aa-8d58289943d8",
   "metadata": {
    "execution": {
     "iopub.execute_input": "2024-07-09T08:29:46.813012Z",
     "iopub.status.busy": "2024-07-09T08:29:46.812301Z",
     "iopub.status.idle": "2024-07-09T08:29:48.323709Z",
     "shell.execute_reply": "2024-07-09T08:29:48.322087Z",
     "shell.execute_reply.started": "2024-07-09T08:29:46.812972Z"
    },
    "tags": []
   },
   "outputs": [],
   "source": [
    "df.write \\\n",
    "    .option(\"path\", \"s3a://bucket-gg/product-ext\") \\\n",
    "    .mode(\"overwrite\") \\\n",
    "    .saveAsTable(\"test_gg.products_ext\")"
   ]
  },
  {
   "cell_type": "code",
   "execution_count": 8,
   "id": "cb124955-e089-46e9-8312-aa4fa3141f88",
   "metadata": {
    "execution": {
     "iopub.execute_input": "2024-07-09T08:30:11.838984Z",
     "iopub.status.busy": "2024-07-09T08:30:11.838325Z",
     "iopub.status.idle": "2024-07-09T08:30:12.578086Z",
     "shell.execute_reply": "2024-07-09T08:30:12.576898Z",
     "shell.execute_reply.started": "2024-07-09T08:30:11.838956Z"
    },
    "tags": []
   },
   "outputs": [
    {
     "name": "stdout",
     "output_type": "stream",
     "text": [
      "+---+--------+-----+\n",
      "| id|    name|price|\n",
      "+---+--------+-----+\n",
      "|  1|Widget A|   10|\n",
      "|  2|Widget B|   15|\n",
      "|  3|Widget C|   20|\n",
      "+---+--------+-----+\n",
      "\n"
     ]
    }
   ],
   "source": [
    "df.write.mode(\"overwrite\").parquet(\"s3a://bucket-gg/table-external\")\n",
    "spark.read.parquet(\"s3a://bucket-gg/table-external\").show()"
   ]
  },
  {
   "cell_type": "code",
   "execution_count": 10,
   "id": "d4201cfb-22fb-4da4-834a-92eeb16c4736",
   "metadata": {
    "execution": {
     "iopub.execute_input": "2024-07-09T08:31:09.658555Z",
     "iopub.status.busy": "2024-07-09T08:31:09.657404Z",
     "iopub.status.idle": "2024-07-09T08:31:09.774420Z",
     "shell.execute_reply": "2024-07-09T08:31:09.773200Z",
     "shell.execute_reply.started": "2024-07-09T08:31:09.658511Z"
    },
    "tags": []
   },
   "outputs": [
    {
     "data": {
      "text/plain": [
       "DataFrame[]"
      ]
     },
     "execution_count": 10,
     "metadata": {},
     "output_type": "execute_result"
    }
   ],
   "source": [
    "spark.sql(\"\"\"\n",
    "CREATE EXTERNAL TABLE IF NOT EXISTS test_gg.products_sql_csv (\n",
    "    id INT,\n",
    "    name STRING,\n",
    "    price INT\n",
    ")\n",
    "ROW FORMAT DELIMITED\n",
    "FIELDS TERMINATED BY ','\n",
    "LINES TERMINATED BY '\\n'\n",
    "STORED AS TEXTFILE\n",
    "LOCATION 's3a://bucket-gg/external-table-sql';\n",
    "\"\"\")"
   ]
  },
  {
   "cell_type": "code",
   "execution_count": 11,
   "id": "8c1d36ad-e043-4ab5-9686-7ff2204d8829",
   "metadata": {
    "execution": {
     "iopub.execute_input": "2024-07-09T08:31:13.850926Z",
     "iopub.status.busy": "2024-07-09T08:31:13.849992Z",
     "iopub.status.idle": "2024-07-09T08:31:14.511499Z",
     "shell.execute_reply": "2024-07-09T08:31:14.509675Z",
     "shell.execute_reply.started": "2024-07-09T08:31:13.850882Z"
    },
    "tags": []
   },
   "outputs": [
    {
     "name": "stdout",
     "output_type": "stream",
     "text": [
      "+----+--------+-----+\n",
      "|  id|    name|price|\n",
      "+----+--------+-----+\n",
      "|null|    name| null|\n",
      "|   1|Widget A|   10|\n",
      "|   2|Widget B|   15|\n",
      "|   3|Widget C|   20|\n",
      "+----+--------+-----+\n",
      "\n"
     ]
    }
   ],
   "source": [
    "spark.sql(\"select * from test_gg.products_sql_csv\").show()"
   ]
  },
  {
   "cell_type": "code",
   "execution_count": 26,
   "id": "edb4c92c-f584-4d3a-8814-e8d7dcb6e49a",
   "metadata": {
    "execution": {
     "iopub.execute_input": "2024-07-09T08:24:58.026341Z",
     "iopub.status.busy": "2024-07-09T08:24:58.025561Z",
     "iopub.status.idle": "2024-07-09T08:24:58.236313Z",
     "shell.execute_reply": "2024-07-09T08:24:58.235144Z",
     "shell.execute_reply.started": "2024-07-09T08:24:58.026299Z"
    },
    "tags": []
   },
   "outputs": [],
   "source": [
    "spark.stop()"
   ]
  }
 ],
 "metadata": {
  "kernelspec": {
   "display_name": "Python 3 (ipykernel)",
   "language": "python",
   "name": "python3"
  },
  "language_info": {
   "codemirror_mode": {
    "name": "ipython",
    "version": 3
   },
   "file_extension": ".py",
   "mimetype": "text/x-python",
   "name": "python",
   "nbconvert_exporter": "python",
   "pygments_lexer": "ipython3",
   "version": "3.10.12"
  }
 },
 "nbformat": 4,
 "nbformat_minor": 5
}
