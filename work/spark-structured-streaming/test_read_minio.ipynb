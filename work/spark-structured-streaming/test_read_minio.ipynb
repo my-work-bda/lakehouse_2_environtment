{
 "cells": [
  {
   "cell_type": "code",
   "execution_count": 1,
   "id": "94c1107c-434e-46e8-a6e1-7a1c87226e35",
   "metadata": {},
   "outputs": [
    {
     "name": "stderr",
     "output_type": "stream",
     "text": [
      "Setting default log level to \"WARN\".\n",
      "To adjust logging level use sc.setLogLevel(newLevel). For SparkR, use setLogLevel(newLevel).\n",
      "24/05/12 16:29:20 WARN NativeCodeLoader: Unable to load native-hadoop library for your platform... using builtin-java classes where applicable\n",
      "24/05/12 16:29:22 WARN MetricsConfig: Cannot locate configuration: tried hadoop-metrics2-s3a-file-system.properties,hadoop-metrics2.properties\n"
     ]
    },
    {
     "data": {
      "text/html": [
       "\n",
       "            <div>\n",
       "                <p><b>SparkSession - hive</b></p>\n",
       "                \n",
       "        <div>\n",
       "            <p><b>SparkContext</b></p>\n",
       "\n",
       "            <p><a href=\"http://33badcece6cc:4040\">Spark UI</a></p>\n",
       "\n",
       "            <dl>\n",
       "              <dt>Version</dt>\n",
       "                <dd><code>v3.5.1</code></dd>\n",
       "              <dt>Master</dt>\n",
       "                <dd><code>spark://spark-master:7077</code></dd>\n",
       "              <dt>AppName</dt>\n",
       "                <dd><code>SparkSession-read-minio</code></dd>\n",
       "            </dl>\n",
       "        </div>\n",
       "        \n",
       "            </div>\n",
       "        "
      ],
      "text/plain": [
       "<pyspark.sql.session.SparkSession at 0x7144197ef250>"
      ]
     },
     "execution_count": 1,
     "metadata": {},
     "output_type": "execute_result"
    }
   ],
   "source": [
    "from pyspark.sql import SparkSession\n",
    "\n",
    "spark = SparkSession\\\n",
    "    .builder\\\n",
    "    .appName(\"SparkSession-read-minio\") \\\n",
    "    .config(\"spark.executor.cores\", \"1\") \\\n",
    "    .config(\"spark.executor.memory\", \"1g\") \\\n",
    "    .config(\"spark.executor.instances\", \"2\") \\\n",
    "    .getOrCreate()\n",
    "spark"
   ]
  },
  {
   "cell_type": "code",
   "execution_count": null,
   "id": "da2d40a1-595a-46d2-8892-7402e56e35af",
   "metadata": {},
   "outputs": [],
   "source": [
    "# spark.stop()"
   ]
  },
  {
   "cell_type": "code",
   "execution_count": 5,
   "id": "7b88cada-f2ef-4078-a893-6a238be8f87a",
   "metadata": {},
   "outputs": [
    {
     "name": "stderr",
     "output_type": "stream",
     "text": [
      "                                                                                \r"
     ]
    }
   ],
   "source": [
    "df = spark.read.csv(\"s3a://kevin/combined_financial_data_idx.csv\", header=True, inferSchema=True).limit(100)"
   ]
  },
  {
   "cell_type": "code",
   "execution_count": 6,
   "id": "8f0d6a94-5af3-4cdb-802a-4f36919d64d6",
   "metadata": {},
   "outputs": [
    {
     "name": "stdout",
     "output_type": "stream",
     "text": [
      "+------+--------------------+----+-------------+-------------+-------------+-------------+\n",
      "|symbol|             account|type|         2020|         2021|         2022|         2023|\n",
      "+------+--------------------+----+-------------+-------------+-------------+-------------+\n",
      "|  AALI|    Accounts Payable|  BS|   7.70264E11|  1.026717E12|  1.224423E12|   8.42064E11|\n",
      "|  AALI| Accounts Receivable|  BS|   7.65849E11|   4.58135E11|    8.4877E11|   6.74487E11|\n",
      "|  AALI|Accumulated Depre...|  BS|-1.0920948E13|-1.2133813E13|-1.3303749E13|-1.4436847E13|\n",
      "|  AALI|Additional Paid I...|  BS|  3.878995E12|  3.878995E12|  3.878995E12|  3.878995E12|\n",
      "|  AALI|Allowance For Dou...|  BS|   -2.4261E10|   -2.4543E10|   -2.7057E10|   -2.6516E10|\n",
      "+------+--------------------+----+-------------+-------------+-------------+-------------+\n",
      "only showing top 5 rows\n",
      "\n"
     ]
    }
   ],
   "source": [
    "df.show(5)"
   ]
  },
  {
   "cell_type": "code",
   "execution_count": null,
   "id": "3169498b-5aaf-4aa7-abc9-d01c5479919a",
   "metadata": {},
   "outputs": [],
   "source": [
    "df.printSchema()"
   ]
  },
  {
   "cell_type": "code",
   "execution_count": null,
   "id": "c738d550-ebfc-42d3-8f17-62cb79244829",
   "metadata": {},
   "outputs": [],
   "source": [
    "df.write.parquet(\"kevin/test\")"
   ]
  },
  {
   "cell_type": "code",
   "execution_count": null,
   "id": "70219a25-8246-49d6-b094-7e7143f6be1a",
   "metadata": {},
   "outputs": [],
   "source": []
  },
  {
   "cell_type": "code",
   "execution_count": 8,
   "id": "0e02abd7-587d-4c79-9aaf-d626f312e308",
   "metadata": {},
   "outputs": [
    {
     "name": "stderr",
     "output_type": "stream",
     "text": [
      "                                                                                \r"
     ]
    }
   ],
   "source": [
    "df.write \\\n",
    "    .format(\"parquet\") \\\n",
    "    .mode(\"overwrite\") \\\n",
    "    .saveAsTable(\"default.test_table_3\")"
   ]
  },
  {
   "cell_type": "code",
   "execution_count": 9,
   "id": "2f61ce68-13dc-44e8-8e37-c0d4ed804e61",
   "metadata": {},
   "outputs": [
    {
     "name": "stdout",
     "output_type": "stream",
     "text": [
      "+---------+------------+-----------+\n",
      "|namespace|   tableName|isTemporary|\n",
      "+---------+------------+-----------+\n",
      "|  default|      sample|      false|\n",
      "|  default|test_table_3|      false|\n",
      "+---------+------------+-----------+\n",
      "\n"
     ]
    }
   ],
   "source": [
    "spark.sql(\"SHOW TABLES\").show()"
   ]
  },
  {
   "cell_type": "code",
   "execution_count": 10,
   "id": "92fefe69-dd13-47ba-aabc-e52a57ce34e6",
   "metadata": {},
   "outputs": [
    {
     "name": "stderr",
     "output_type": "stream",
     "text": [
      "[Stage 8:>                                                          (0 + 1) / 1]\r"
     ]
    },
    {
     "name": "stdout",
     "output_type": "stream",
     "text": [
      "+------+--------------------+----+-------------+-------------+-------------+-------------+\n",
      "|symbol|             account|type|         2020|         2021|         2022|         2023|\n",
      "+------+--------------------+----+-------------+-------------+-------------+-------------+\n",
      "|  MASA|    Cash Equivalents|  BS|          0.0|    5423586.0|    1497995.0|  2.9523764E7|\n",
      "|  MASA|      Cash Financial|  BS|    1795969.0|    2068371.0|     763413.0|     649775.0|\n",
      "|  MASA|Cash Flowsfromuse...|  CF|  6.6489212E7|  6.2943823E7| 1.05883581E8| 1.13865923E8|\n",
      "|  MASA|     Changes In Cash|  CF|   -3193558.0|    5769593.0|   -5047699.0|   2.787988E7|\n",
      "|  MASA|Classesof Cash Pa...|  CF|-2.53106795E8|-3.64902749E8|-4.35932386E8|-3.00059123E8|\n",
      "|  MASA|Classesof Cash Re...|  CF| 3.19724924E8|  4.2697229E8| 5.64043229E8|    4.36629E8|\n",
      "|  MASA|        Common Stock|  BS| 1.37342902E8| 1.37342902E8| 1.37342902E8| 1.37342902E8|\n",
      "|  MASA|Common Stock Divi...|  CF|         NULL|         NULL|          0.0| -1.9072981E7|\n",
      "|  MASA| Common Stock Equity|  BS| 2.35867769E8| 2.72124971E8| 3.24826968E8| 3.80995789E8|\n",
      "|  MASA|Construction In P...|  BS|    8639337.0|  1.9296089E7|  3.1211069E7|  2.5533239E7|\n",
      "|  MASA|     Cost Of Revenue|  IS| 2.44996318E8| 3.32776881E8| 3.22923396E8| 2.93171532E8|\n",
      "|  MASA|      Current Assets|  BS| 1.55499262E8| 2.26841923E8|  1.7617564E8| 2.49282016E8|\n",
      "|  MASA|Current Capital L...|  BS|     918381.0|     857681.0|     446316.0|     620285.0|\n",
      "|  MASA|        Current Debt|  BS|  2.5162335E7|       3.31E7|       4.46E7|          0.0|\n",
      "|  MASA|Current Debt And ...|  BS|  2.6080716E7|  3.3957681E7|  4.5046316E7|     620285.0|\n",
      "|  MASA| Current Liabilities|  BS| 1.02601258E8| 1.45449251E8| 1.24960488E8| 1.26055127E8|\n",
      "|  MASA|Depreciation And ...|  IS|    2821490.0|    2769174.0|    2640499.0|    2101469.0|\n",
      "|  MASA|Depreciation Inco...|  IS|    2821490.0|    2769174.0|    2640499.0|    2101469.0|\n",
      "|  MASA|Diluted Average S...|  IS|9.182946945E9|9.182946945E9|9.182946945E9|9.182946945E9|\n",
      "|  MASA|         Diluted EPS|  IS|      0.00385|      0.00548|       0.0058|       0.0082|\n",
      "+------+--------------------+----+-------------+-------------+-------------+-------------+\n",
      "only showing top 20 rows\n",
      "\n"
     ]
    },
    {
     "name": "stderr",
     "output_type": "stream",
     "text": [
      "                                                                                \r"
     ]
    }
   ],
   "source": [
    "spark.sql(\"SELECT * FROM test_table_3\").show()"
   ]
  },
  {
   "cell_type": "code",
   "execution_count": 11,
   "id": "cd50225e-eed6-462b-a4d4-59e9ab74cb96",
   "metadata": {},
   "outputs": [],
   "source": [
    "spark.stop()"
   ]
  }
 ],
 "metadata": {
  "kernelspec": {
   "display_name": "Python 3 (ipykernel)",
   "language": "python",
   "name": "python3"
  },
  "language_info": {
   "codemirror_mode": {
    "name": "ipython",
    "version": 3
   },
   "file_extension": ".py",
   "mimetype": "text/x-python",
   "name": "python",
   "nbconvert_exporter": "python",
   "pygments_lexer": "ipython3",
   "version": "3.10.12"
  }
 },
 "nbformat": 4,
 "nbformat_minor": 5
}
